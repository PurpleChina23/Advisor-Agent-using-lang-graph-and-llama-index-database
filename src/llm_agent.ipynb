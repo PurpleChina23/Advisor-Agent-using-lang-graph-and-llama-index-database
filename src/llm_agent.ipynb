{
 "cells": [
  {
   "cell_type": "markdown",
   "id": "38d8d8a7",
   "metadata": {},
   "source": [
    "\n",
    "# Load environment variables\n",
    "\n"
   ]
  },
  {
   "cell_type": "code",
   "execution_count": 4,
   "id": "350b256e",
   "metadata": {},
   "outputs": [
    {
     "name": "stdout",
     "output_type": "stream",
     "text": [
      "✅ OPENAI_API_KEY loaded.\n",
      "✅ OPENAI_API_BASE = https://api.agicto.cn/v1\n"
     ]
    }
   ],
   "source": [
    "import os\n",
    "from dotenv import load_dotenv, find_dotenv\n",
    "\n",
    "load_dotenv(find_dotenv())\n",
    "\n",
    "api_key = os.getenv(\"OPENAI_API_KEY\")\n",
    "OPENAI_API_BASE = os.getenv(\"OPENAI_API_BASE\")\n",
    "\n",
    "if not api_key:\n",
    "    print(\"❌ OPENAI_API_KEY not loaded.\")\n",
    "else:\n",
    "    print(\"✅ OPENAI_API_KEY loaded.\")\n",
    "\n",
    "if not OPENAI_API_BASE:\n",
    "    print(\"⚠️ OPENAI_API_BASE not found.\")\n",
    "else:\n",
    "    print(f\"✅ OPENAI_API_BASE = {OPENAI_API_BASE}\")"
   ]
  },
  {
   "cell_type": "markdown",
   "id": "f5b453ca",
   "metadata": {},
   "source": [
    "# init model"
   ]
  },
  {
   "cell_type": "code",
   "execution_count": 14,
   "id": "4f036fba",
   "metadata": {},
   "outputs": [],
   "source": [
    "\n",
    "from langchain.chat_models import init_chat_model\n",
    "llm = init_chat_model(model='gpt-4.1-nano', temperature=0)"
   ]
  },
  {
   "cell_type": "code",
   "execution_count": null,
   "id": "6eaa8203",
   "metadata": {},
   "outputs": [],
   "source": [
    "result = llm.invoke(\"What is an agent?\")\n"
   ]
  }
 ],
 "metadata": {
  "kernelspec": {
   "display_name": ".venv (3.10.5)",
   "language": "python",
   "name": "python3"
  },
  "language_info": {
   "codemirror_mode": {
    "name": "ipython",
    "version": 3
   },
   "file_extension": ".py",
   "mimetype": "text/x-python",
   "name": "python",
   "nbconvert_exporter": "python",
   "pygments_lexer": "ipython3",
   "version": "3.10.5"
  }
 },
 "nbformat": 4,
 "nbformat_minor": 5
}
