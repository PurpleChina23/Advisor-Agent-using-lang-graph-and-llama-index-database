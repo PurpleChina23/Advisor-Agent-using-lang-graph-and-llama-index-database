{
 "cells": [
  {
   "cell_type": "markdown",
   "id": "38d8d8a7",
   "metadata": {},
   "source": "# Load environment variables\n\n**Note:** Make sure you've selected the \"Python 3.10 (Agent)\" kernel for this notebook.\nTo change kernel: Click on the kernel selector in the top-right corner of VSCode."
  },
  {
   "cell_type": "code",
   "execution_count": null,
   "id": "350b256e",
   "metadata": {},
   "outputs": [],
   "source": "from dotenv import load_dotenv\nimport os\n\n# Load from the .env file in the src directory (same directory as this notebook)\nenv_path = \"/Users/blackchina23/Fuck School/Western MDA/CS9146 Artifical Intelligence/Agent/src/.env\"\nresult = load_dotenv(env_path)\nprint(f\"Environment loaded: {result}\")\nprint(f\"DEEPSEEK_API_KEY is {'\u2713 set' if os.getenv('DEEPSEEK_API_KEY') else '\u2717 NOT set'}\")"
  },
  {
   "cell_type": "markdown",
   "id": "f5b453ca",
   "metadata": {},
   "source": [
    "# init model"
   ]
  },
  {
   "cell_type": "code",
   "execution_count": 17,
   "id": "4f036fba",
   "metadata": {},
   "outputs": [
    {
     "ename": "ModuleNotFoundError",
     "evalue": "No module named 'langchain'",
     "output_type": "error",
     "traceback": [
      "\u001b[0;31m---------------------------------------------------------------------------\u001b[0m",
      "\u001b[0;31mModuleNotFoundError\u001b[0m                       Traceback (most recent call last)",
      "Cell \u001b[0;32mIn[17], line 1\u001b[0m\n\u001b[0;32m----> 1\u001b[0m \u001b[38;5;28;01mfrom\u001b[39;00m \u001b[38;5;21;01mlangchain\u001b[39;00m\u001b[38;5;21;01m.\u001b[39;00m\u001b[38;5;21;01mchat_models\u001b[39;00m \u001b[38;5;28;01mimport\u001b[39;00m init_chat_model\n\u001b[1;32m      2\u001b[0m llm \u001b[38;5;241m=\u001b[39m init_chat_model(\u001b[38;5;124m\"\u001b[39m\u001b[38;5;124mopenai:gpt-4.1\u001b[39m\u001b[38;5;124m\"\u001b[39m, temperature\u001b[38;5;241m=\u001b[39m\u001b[38;5;241m0\u001b[39m)\n",
      "\u001b[0;31mModuleNotFoundError\u001b[0m: No module named 'langchain'"
     ]
    }
   ],
   "source": [
    "\n",
    "from langchain.chat_models import init_chat_model\n",
    "llm = init_chat_model(\"openai:gpt-4.1\", temperature=0)"
   ]
  }
 ],
 "metadata": {
  "kernelspec": {
   "display_name": "Python 3.10 (Agent)",
   "language": "python",
   "name": "agent-py310"
  },
  "language_info": {
   "codemirror_mode": {
    "name": "ipython",
    "version": 3
   },
   "file_extension": ".py",
   "mimetype": "text/x-python",
   "name": "python",
   "nbconvert_exporter": "python",
   "pygments_lexer": "ipython3",
   "version": "3.10.5"
  }
 },
 "nbformat": 4,
 "nbformat_minor": 5
}